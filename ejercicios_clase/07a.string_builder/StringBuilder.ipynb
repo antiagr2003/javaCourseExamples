{
 "cells": [
  {
   "cell_type": "code",
   "execution_count": null,
   "id": "a4f21987-4aa0-4362-b9d3-2c01e385c1fa",
   "metadata": {},
   "outputs": [],
   "source": [
    "import java.lang.*;\n",
    "import java.util.Date;\n",
    "    \n",
    "    \n",
    "class A extends Object"
   ]
  },
  {
   "cell_type": "code",
   "execution_count": 18,
   "id": "3ed483ab-0f56-42a9-acf4-e4ed7c63d459",
   "metadata": {},
   "outputs": [
    {
     "name": "stdout",
     "output_type": "stream",
     "text": [
      "abtrue12.5566\n"
     ]
    }
   ],
   "source": [
    "String s = \"a\";\n",
    "s += \"b\";\n",
    "s += true;\n",
    "s += 1;\n",
    "s += 2.5566;\n",
    "System.out.println(s);"
   ]
  },
  {
   "cell_type": "code",
   "execution_count": 15,
   "id": "19a75878-1502-41ed-b6ec-3bd00ccc94f9",
   "metadata": {},
   "outputs": [
    {
     "name": "stdout",
     "output_type": "stream",
     "text": [
      "abcde\n"
     ]
    }
   ],
   "source": [
    "StringBuilder sb = new StringBuilder();\n",
    "sb.append(\"a\");\n",
    "sb.append(\"b\");\n",
    "sb.append(\"c\");\n",
    "sb.append(\"d\");\n",
    "sb.append(\"e\");\n",
    "String s = sb.toString();\n",
    "System.out.println(s);"
   ]
  },
  {
   "cell_type": "code",
   "execution_count": 12,
   "id": "cb10fddf-dcbd-4c88-a84e-03b943480c0d",
   "metadata": {},
   "outputs": [
    {
     "name": "stdout",
     "output_type": "stream",
     "text": [
      "abcde\n"
     ]
    }
   ],
   "source": [
    "System.out.println(sb);"
   ]
  },
  {
   "cell_type": "code",
   "execution_count": 14,
   "id": "502b9709-6882-4c52-b841-e490d68dc2e9",
   "metadata": {},
   "outputs": [],
   "source": [
    "s = \"a\" + 1;"
   ]
  },
  {
   "cell_type": "code",
   "execution_count": null,
   "id": "5039602f-e728-4cf9-a6c4-406ac07741fd",
   "metadata": {},
   "outputs": [],
   "source": [
    "    @Override\n",
    "    public String toString()\n",
    "    {\n",
    "        return \"Nombre: \" + nombre + \" NIF: \" +\n",
    "         nif + \" Edad: \" + edad;\n",
    "    }\n",
    "\n",
    "    @Override\n",
    "    public String toString()\n",
    "    {\n",
    "        StringBuilder sb = new StringBuilder(\"Nombre\");\n",
    "        sb.append(nombre);\n",
    "        sb.append(\"NIF:\");\n",
    "         nif + \" Edad: \" + edad;\n",
    "    }"
   ]
  },
  {
   "cell_type": "code",
   "execution_count": 29,
   "id": "1baa9ce0-051a-4137-9892-01cb1d1d59d5",
   "metadata": {},
   "outputs": [
    {
     "name": "stdout",
     "output_type": "stream",
     "text": [
      "abcde\n"
     ]
    }
   ],
   "source": [
    "StringBuilder sb = new StringBuilder();\n",
    "sb.append(\"a\").append(\"b\").append(\"c\").append(\"d\").append(\"e\");\n",
    "String s = sb.toString();\n",
    "System.out.println(s);"
   ]
  },
  {
   "cell_type": "code",
   "execution_count": 30,
   "id": "84f626e1-dd68-4362-8a30-80408ac7c7d9",
   "metadata": {},
   "outputs": [
    {
     "name": "stdout",
     "output_type": "stream",
     "text": [
      "abcde\n"
     ]
    }
   ],
   "source": [
    "StringBuilder sb = new StringBuilder();\n",
    "sb.append(\"a\")\n",
    "  .append(\"b\")\n",
    "  .append(\"c\")\n",
    "  .append(\"d\")\n",
    "  .append(\"e\");\n",
    "\n",
    "String s = sb.toString();\n",
    "System.out.println(s);"
   ]
  },
  {
   "cell_type": "code",
   "execution_count": 20,
   "id": "c4367483-aa14-4bdc-8f34-36ef2bd21c0e",
   "metadata": {},
   "outputs": [
    {
     "data": {
      "text/plain": [
       "abcde"
      ]
     },
     "execution_count": 20,
     "metadata": {},
     "output_type": "execute_result"
    }
   ],
   "source": [
    "sb2"
   ]
  },
  {
   "cell_type": "code",
   "execution_count": 37,
   "id": "85701740-e2cb-4322-b2f7-8ce1934eaae3",
   "metadata": {},
   "outputs": [],
   "source": [
    "s = \"hola\";\n"
   ]
  },
  {
   "cell_type": "code",
   "execution_count": 33,
   "id": "07cbd7c0-0a45-4ba2-bcbe-4b51bfb18569",
   "metadata": {},
   "outputs": [
    {
     "data": {
      "text/plain": [
       "hola"
      ]
     },
     "execution_count": 33,
     "metadata": {},
     "output_type": "execute_result"
    }
   ],
   "source": [
    "s"
   ]
  },
  {
   "cell_type": "code",
   "execution_count": 34,
   "id": "bb5bd815-86e1-44fe-ab9e-d9e9948a4334",
   "metadata": {},
   "outputs": [
    {
     "data": {
      "text/plain": [
       "O"
      ]
     },
     "execution_count": 34,
     "metadata": {},
     "output_type": "execute_result"
    }
   ],
   "source": [
    "s.toUpperCase().substring(1, 3).charAt(0)"
   ]
  },
  {
   "cell_type": "code",
   "execution_count": 38,
   "id": "36ff50c2-248d-4bd8-bc99-641fe08854c0",
   "metadata": {},
   "outputs": [
    {
     "data": {
      "text/plain": [
       "O"
      ]
     },
     "execution_count": 38,
     "metadata": {},
     "output_type": "execute_result"
    }
   ],
   "source": [
    "s.toUpperCase()\n",
    " .substring(1, 3)\n",
    " .charAt(0);"
   ]
  },
  {
   "cell_type": "code",
   "execution_count": 35,
   "id": "997e8ebf-4e7b-4c93-bf63-84be0ed55c1b",
   "metadata": {},
   "outputs": [
    {
     "data": {
      "text/plain": [
       "O"
      ]
     },
     "execution_count": 35,
     "metadata": {},
     "output_type": "execute_result"
    }
   ],
   "source": [
    "String s = s.toUpperCase();\n",
    "s = s.substring(1, 3);\n",
    "s.charAt(0)"
   ]
  },
  {
   "cell_type": "code",
   "execution_count": null,
   "id": "e7cfcd50-77f4-427e-aabf-cf03809c5678",
   "metadata": {},
   "outputs": [],
   "source": [
    "\n",
    "\n"
   ]
  }
 ],
 "metadata": {
  "kernelspec": {
   "display_name": "Java",
   "language": "java",
   "name": "java"
  },
  "language_info": {
   "codemirror_mode": "java",
   "file_extension": ".jshell",
   "mimetype": "text/x-java-source",
   "name": "Java",
   "pygments_lexer": "java",
   "version": "11.0.12+8-LTS-237"
  }
 },
 "nbformat": 4,
 "nbformat_minor": 5
}
