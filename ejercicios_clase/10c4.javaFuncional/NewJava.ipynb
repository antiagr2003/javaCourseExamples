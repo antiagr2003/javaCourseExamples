{
 "cells": [
  {
   "cell_type": "code",
   "execution_count": 63,
   "id": "02591d6d",
   "metadata": {},
   "outputs": [
    {
     "name": "stdout",
     "output_type": "stream",
     "text": [
      "Hola\r\n"
     ]
    }
   ],
   "source": [
    "System.out.println(\"Hola\");"
   ]
  },
  {
   "cell_type": "code",
   "execution_count": 35,
   "id": "1e994f97",
   "metadata": {},
   "outputs": [
    {
     "data": {
      "text/plain": [
       "true"
      ]
     },
     "execution_count": 35,
     "metadata": {},
     "output_type": "execute_result"
    }
   ],
   "source": [
    "ArrayList<Integer> numeros = new ArrayList<>();\n",
    "numeros.add(1);\n",
    "numeros.add(2);\n",
    "numeros.add(3);"
   ]
  },
  {
   "cell_type": "code",
   "execution_count": 36,
   "id": "889610e9",
   "metadata": {},
   "outputs": [
    {
     "data": {
      "text/plain": [
       "[1, 2, 3]"
      ]
     },
     "execution_count": 36,
     "metadata": {},
     "output_type": "execute_result"
    }
   ],
   "source": [
    "numeros"
   ]
  },
  {
   "cell_type": "code",
   "execution_count": null,
   "id": "ba6d36b5",
   "metadata": {},
   "outputs": [],
   "source": [
    "ArrayList<Integer> numeros = List.new ArrayList<>();\n",
    "numeros.add(1);\n",
    "numeros.add(2);\n",
    "numeros.add(3);"
   ]
  },
  {
   "cell_type": "code",
   "execution_count": 68,
   "id": "1e3cd771",
   "metadata": {},
   "outputs": [],
   "source": [
    "class A\n",
    "{\n",
    "    static void m(int... args)\n",
    "    {\n",
    "        System.out.println(args.getClass().getName());\n",
    "        for(int arg : args)\n",
    "            System.out.println(arg);\n",
    "    }\n",
    "}"
   ]
  },
  {
   "cell_type": "code",
   "execution_count": 69,
   "id": "a90bb327",
   "metadata": {},
   "outputs": [
    {
     "name": "stdout",
     "output_type": "stream",
     "text": [
      "[I\n",
      "1\n",
      "2\n",
      "3\n",
      "4\n",
      "5\n"
     ]
    }
   ],
   "source": [
    "A.m(1, 2, 3, 4, 5 )"
   ]
  },
  {
   "cell_type": "code",
   "execution_count": 76,
   "id": "7fbaa56f",
   "metadata": {},
   "outputs": [
    {
     "data": {
      "text/plain": [
       "true"
      ]
     },
     "execution_count": 76,
     "metadata": {},
     "output_type": "execute_result"
    }
   ],
   "source": [
    "ArrayList<Integer> numeros = new ArrayList<>();\n",
    "numeros.add(1);\n",
    "numeros.add(2);\n",
    "numeros.add(3);"
   ]
  },
  {
   "cell_type": "code",
   "execution_count": 81,
   "id": "0e13113d",
   "metadata": {},
   "outputs": [],
   "source": [
    "ArrayList<Integer> numerosAL = new ArrayList<>(List.of(5, 4, 1, 2, 5, 4));"
   ]
  },
  {
   "cell_type": "code",
   "execution_count": 82,
   "id": "4d7c68c1",
   "metadata": {},
   "outputs": [
    {
     "data": {
      "text/plain": [
       "true"
      ]
     },
     "execution_count": 82,
     "metadata": {},
     "output_type": "execute_result"
    }
   ],
   "source": [
    "numerosAL.add(4)"
   ]
  },
  {
   "cell_type": "code",
   "execution_count": 84,
   "id": "a69095c9",
   "metadata": {},
   "outputs": [
    {
     "data": {
      "text/plain": [
       "[5, 4, 1, 2, 5, 4, 4]"
      ]
     },
     "execution_count": 84,
     "metadata": {},
     "output_type": "execute_result"
    }
   ],
   "source": [
    "numerosAL"
   ]
  },
  {
   "cell_type": "code",
   "execution_count": 85,
   "id": "5856ffc2",
   "metadata": {},
   "outputs": [
    {
     "data": {
      "text/plain": [
       "[1, 2, 4, 5]"
      ]
     },
     "execution_count": 85,
     "metadata": {},
     "output_type": "execute_result"
    }
   ],
   "source": [
    "new TreeSet(numerosAL)"
   ]
  },
  {
   "cell_type": "code",
   "execution_count": 86,
   "id": "f4146659",
   "metadata": {},
   "outputs": [
    {
     "data": {
      "text/plain": [
       "[5, 4, 1, 2, 5, 4, 4]"
      ]
     },
     "execution_count": 86,
     "metadata": {},
     "output_type": "execute_result"
    }
   ],
   "source": [
    "numerosAL"
   ]
  },
  {
   "cell_type": "code",
   "execution_count": 87,
   "id": "aa811d67",
   "metadata": {},
   "outputs": [
    {
     "name": "stdout",
     "output_type": "stream",
     "text": [
      "5\n",
      "4\n",
      "1\n",
      "2\n",
      "5\n",
      "4\n",
      "4\n"
     ]
    }
   ],
   "source": [
    "for(Integer num : numerosAL)\n",
    "     System.out.println(num);"
   ]
  },
  {
   "cell_type": "code",
   "execution_count": 92,
   "id": "c819c9ce",
   "metadata": {},
   "outputs": [
    {
     "name": "stdout",
     "output_type": "stream",
     "text": [
      "18\n",
      "16\n",
      "10\n",
      "12\n",
      "18\n",
      "16\n",
      "16\n"
     ]
    }
   ],
   "source": [
    "numerosAL.forEach(numero -> \n",
    "    {\n",
    "        numero += 4;\n",
    "        numero *= 2;\n",
    "        System.out.println(numero);\n",
    "    });"
   ]
  },
  {
   "cell_type": "code",
   "execution_count": 91,
   "id": "485158bc",
   "metadata": {},
   "outputs": [
    {
     "name": "stdout",
     "output_type": "stream",
     "text": [
      "5\n",
      "4\n",
      "1\n",
      "2\n",
      "5\n",
      "4\n",
      "4\n"
     ]
    }
   ],
   "source": [
    "numerosAL.forEach(System.out::println)"
   ]
  },
  {
   "cell_type": "code",
   "execution_count": 93,
   "id": "8978f831",
   "metadata": {},
   "outputs": [
    {
     "name": "stdout",
     "output_type": "stream",
     "text": [
      "36\n",
      "32\n",
      "20\n",
      "24\n",
      "36\n",
      "32\n",
      "32\n"
     ]
    }
   ],
   "source": [
    "numerosAL.stream()\n",
    "    .map(n -> n + 4)\n",
    "    .map(n -> n * 4)\n",
    "    .filter(n -> n > 10)\n",
    "    .forEach(System.out::println)"
   ]
  },
  {
   "cell_type": "code",
   "execution_count": 96,
   "id": "389a5911",
   "metadata": {},
   "outputs": [
    {
     "data": {
      "text/plain": [
       "212"
      ]
     },
     "execution_count": 96,
     "metadata": {},
     "output_type": "execute_result"
    }
   ],
   "source": [
    "numerosAL.stream()\n",
    "    .map(n -> n + 4)\n",
    "    .map(n -> n * 4)\n",
    "    .filter(n -> n > 10)\n",
    "    .reduce(0, (a, b) -> a + b)"
   ]
  },
  {
   "cell_type": "code",
   "execution_count": 100,
   "id": "9feaf5cd",
   "metadata": {},
   "outputs": [
    {
     "data": {
      "text/plain": [
       "true"
      ]
     },
     "execution_count": 100,
     "metadata": {},
     "output_type": "execute_result"
    }
   ],
   "source": [
    "numerosAL.removeIf(n -> n < 3)"
   ]
  },
  {
   "cell_type": "code",
   "execution_count": 101,
   "id": "c52d6229",
   "metadata": {},
   "outputs": [
    {
     "data": {
      "text/plain": [
       "[5, 4, 5, 4, 4]"
      ]
     },
     "execution_count": 101,
     "metadata": {},
     "output_type": "execute_result"
    }
   ],
   "source": [
    "numerosAL"
   ]
  },
  {
   "cell_type": "code",
   "execution_count": 97,
   "id": "f7c1b2e0",
   "metadata": {},
   "outputs": [],
   "source": [
    "HashMap<String, Integer> mapa = new HashMap<>();"
   ]
  },
  {
   "cell_type": "code",
   "execution_count": 98,
   "id": "3e5693f3",
   "metadata": {},
   "outputs": [],
   "source": [
    "mapa.put(\"a\", 1);\n",
    "mapa.put(\"b\", 2);\n",
    "mapa.put(\"c\", 2);"
   ]
  },
  {
   "cell_type": "code",
   "execution_count": 102,
   "id": "9c3b1ed6",
   "metadata": {},
   "outputs": [
    {
     "data": {
      "text/plain": [
       "{a=1, b=2, c=2}"
      ]
     },
     "execution_count": 102,
     "metadata": {},
     "output_type": "execute_result"
    }
   ],
   "source": [
    "mapa"
   ]
  },
  {
   "cell_type": "code",
   "execution_count": 104,
   "id": "493051b4",
   "metadata": {},
   "outputs": [
    {
     "name": "stdout",
     "output_type": "stream",
     "text": [
      "a: 1\n",
      "b: 2\n",
      "c: 2\n"
     ]
    }
   ],
   "source": [
    "mapa.forEach((k, v) -> System.out.println(k + \": \" + v))"
   ]
  },
  {
   "cell_type": "code",
   "execution_count": null,
   "id": "0ed09e5f",
   "metadata": {},
   "outputs": [],
   "source": []
  }
 ],
 "metadata": {
  "kernelspec": {
   "display_name": "Java",
   "language": "java",
   "name": "java"
  },
  "language_info": {
   "codemirror_mode": "java",
   "file_extension": ".jshell",
   "mimetype": "text/x-java-source",
   "name": "Java",
   "pygments_lexer": "java",
   "version": "19.0.1+10-21"
  }
 },
 "nbformat": 4,
 "nbformat_minor": 5
}
