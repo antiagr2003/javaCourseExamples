{
 "cells": [
  {
   "cell_type": "markdown",
   "metadata": {},
   "source": [
    "# Clase Object"
   ]
  },
  {
   "cell_type": "markdown",
   "metadata": {},
   "source": [
    "https://docs.oracle.com/javase/7/docs/api/java/lang/Object.html"
   ]
  },
  {
   "cell_type": "markdown",
   "metadata": {},
   "source": [
    "## Object es la superclase de todas las clases Java"
   ]
  },
  {
   "cell_type": "markdown",
   "metadata": {},
   "source": [
    "Todas las clases Java hacen un extends de forma implícita de la clase Object, aunque nosotros no se lo indiquemos. Por lo tanto, sería equivalente programar la clase Persona así..."
   ]
  },
  {
   "cell_type": "code",
   "execution_count": 1,
   "metadata": {},
   "outputs": [],
   "source": [
    "class Persona\n",
    "{\n",
    "\n",
    "}"
   ]
  },
  {
   "cell_type": "markdown",
   "metadata": {},
   "source": [
    "...que de esta forma...."
   ]
  },
  {
   "cell_type": "code",
   "execution_count": null,
   "metadata": {},
   "outputs": [],
   "source": [
    "class Persona extends Object\n",
    "{\n",
    "\n",
    "}"
   ]
  },
  {
   "cell_type": "markdown",
   "metadata": {},
   "source": [
    "Aunque claramente, nadie utiliza esta segunda forma."
   ]
  },
  {
   "cell_type": "markdown",
   "metadata": {},
   "source": [
    "Cuando creamos una instancia de Persona..."
   ]
  },
  {
   "cell_type": "code",
   "execution_count": 3,
   "metadata": {},
   "outputs": [],
   "source": [
    "Persona p = new Persona();"
   ]
  },
  {
   "cell_type": "markdown",
   "metadata": {},
   "source": [
    "...la respuesta a la pregunta de instanceof será..."
   ]
  },
  {
   "cell_type": "code",
   "execution_count": 2,
   "metadata": {},
   "outputs": [
    {
     "data": {
      "text/plain": [
       "true"
      ]
     },
     "execution_count": 2,
     "metadata": {},
     "output_type": "execute_result"
    }
   ],
   "source": [
    "p instanceof Object;"
   ]
  },
  {
   "cell_type": "code",
   "execution_count": 4,
   "metadata": {},
   "outputs": [
    {
     "data": {
      "text/plain": [
       "true"
      ]
     },
     "execution_count": 4,
     "metadata": {},
     "output_type": "execute_result"
    }
   ],
   "source": [
    "p instanceof Persona;"
   ]
  },
  {
   "cell_type": "markdown",
   "metadata": {},
   "source": [
    "Como se decía, NO se explicita la herencia y se omite siempre."
   ]
  },
  {
   "cell_type": "code",
   "execution_count": 5,
   "metadata": {},
   "outputs": [],
   "source": [
    "class Persona\n",
    "{       \n",
    "    private String nombre;\n",
    "    private int edad;\n",
    "    \n",
    "    public Persona(String nombre, int edad) \n",
    "    {\n",
    "        this.nombre = nombre;\n",
    "        this.edad = edad;\n",
    "    }\n",
    "    \n",
    "    public String getInfo()\n",
    "    {\n",
    "        return \"Nombre: \" + nombre + \"\\nEdad: \" + edad;\n",
    "    }\n",
    "}"
   ]
  },
  {
   "cell_type": "code",
   "execution_count": 6,
   "metadata": {},
   "outputs": [
    {
     "data": {
      "text/plain": [
       "true"
      ]
     },
     "execution_count": 6,
     "metadata": {},
     "output_type": "execute_result"
    }
   ],
   "source": [
    "Persona p = new Persona(\"Luis\", 22);\n",
    "p instanceof Object;"
   ]
  },
  {
   "cell_type": "code",
   "execution_count": 7,
   "metadata": {},
   "outputs": [
    {
     "data": {
      "text/plain": [
       "true"
      ]
     },
     "execution_count": 7,
     "metadata": {},
     "output_type": "execute_result"
    }
   ],
   "source": [
    "p instanceof Persona;"
   ]
  },
  {
   "cell_type": "markdown",
   "metadata": {},
   "source": [
    "Nótese cómo se puede tener información más concreta sobre la clase a la cual pertenece un objeto haciendo reflection o instrospection, aunque todavía no nos aporte mucho... Más tarde entenderemos esta información."
   ]
  },
  {
   "cell_type": "code",
   "execution_count": 8,
   "metadata": {},
   "outputs": [
    {
     "data": {
      "text/plain": [
       "REPL.$JShell$12B$Persona"
      ]
     },
     "execution_count": 8,
     "metadata": {},
     "output_type": "execute_result"
    }
   ],
   "source": [
    "Class clase = p.getClass();\n",
    "clase.getName()"
   ]
  },
  {
   "cell_type": "markdown",
   "metadata": {},
   "source": [
    "### ¿Qué ventajas me proporciona que Object sea la superclase de todos los objetos Java?"
   ]
  },
  {
   "cell_type": "markdown",
   "metadata": {},
   "source": [
    "Que nuestras clases hereden de Object significará que heredarán todos los métodos del interfaz de Object.\n",
    "https://docs.oracle.com/javase/7/docs/api/java/lang/Object.html"
   ]
  },
  {
   "cell_type": "markdown",
   "metadata": {},
   "source": [
    "Aunque no entendamos el significado de los métodos que posee Object, vemos cómo se pueden invocar desde cualquier objeto."
   ]
  },
  {
   "cell_type": "code",
   "execution_count": 11,
   "metadata": {},
   "outputs": [
    {
     "data": {
      "text/plain": [
       "1874186120"
      ]
     },
     "execution_count": 11,
     "metadata": {},
     "output_type": "execute_result"
    }
   ],
   "source": [
    "p.hashCode()"
   ]
  },
  {
   "cell_type": "code",
   "execution_count": 12,
   "metadata": {},
   "outputs": [
    {
     "data": {
      "text/plain": [
       "class REPL.$JShell$12B$Persona"
      ]
     },
     "execution_count": 12,
     "metadata": {},
     "output_type": "execute_result"
    }
   ],
   "source": [
    "p.getClass()"
   ]
  },
  {
   "cell_type": "code",
   "execution_count": 13,
   "metadata": {},
   "outputs": [
    {
     "data": {
      "text/plain": [
       "REPL.$JShell$12B$Persona@6fb5cf88"
      ]
     },
     "execution_count": 13,
     "metadata": {},
     "output_type": "execute_result"
    }
   ],
   "source": [
    "p.toString()"
   ]
  },
  {
   "cell_type": "markdown",
   "metadata": {},
   "source": [
    "### ¿Para que nos sirve esta implementación genérica?"
   ]
  },
  {
   "cell_type": "markdown",
   "metadata": {},
   "source": [
    "La ventaja es que Object nos proporciona el interfaz genérico que cada objeto deberá redefinir (@Override) para tener su comportamiento específico, por lo que todos los objetos sabrán responder a estos métodos."
   ]
  },
  {
   "cell_type": "markdown",
   "metadata": {},
   "source": [
    "## Método _public String toString()_"
   ]
  },
  {
   "cell_type": "markdown",
   "metadata": {},
   "source": [
    "El método toString() declarado en la clase Object indica la capacidad que tiene cualquier objeto de convertirse a String."
   ]
  },
  {
   "cell_type": "markdown",
   "metadata": {},
   "source": [
    "Hasta ahora utilizábamos en método getInfo() para obtener toda la información del objeto en forma de String"
   ]
  },
  {
   "cell_type": "code",
   "execution_count": 19,
   "metadata": {},
   "outputs": [
    {
     "data": {
      "text/plain": [
       "Nombre: Alejandro\n",
       "Edad: 36"
      ]
     },
     "execution_count": 19,
     "metadata": {},
     "output_type": "execute_result"
    }
   ],
   "source": [
    "Persona p1 = new Persona(\"Alejandro\", 36);\n",
    "p1.getInfo();"
   ]
  },
  {
   "cell_type": "markdown",
   "metadata": {},
   "source": [
    "Si llamamos al método toString() de la clase Persona, al no estar redefinido, tomará la implementación genérica que hereda de la clase Object. Ojo que en la salida por consola, no se muestra el prefijo *REPL.$JShell$20V$* que se muestra en Jupyter"
   ]
  },
  {
   "cell_type": "code",
   "execution_count": 20,
   "metadata": {},
   "outputs": [
    {
     "data": {
      "text/plain": [
       "REPL.$JShell$12B$Persona@21cfcfe8"
      ]
     },
     "execution_count": 20,
     "metadata": {},
     "output_type": "execute_result"
    }
   ],
   "source": [
    "p1.toString();"
   ]
  },
  {
   "cell_type": "markdown",
   "metadata": {},
   "source": [
    "Justo la salida que acabamos de ver es la implementación genérica que tiene Object. Lo único que se puede decir desde ese interfaz tan general a todos los objetos es la siguiente. El método hashCode(), que se verá en temas futuros, representa la conversión a un número entero de un objeto."
   ]
  },
  {
   "cell_type": "code",
   "execution_count": 22,
   "metadata": {},
   "outputs": [
    {
     "data": {
      "text/plain": [
       "REPL.$JShell$12B$Persona@21cfcfe8"
      ]
     },
     "execution_count": 22,
     "metadata": {},
     "output_type": "execute_result"
    }
   ],
   "source": [
    "p1.getClass().getName() + '@' + Integer.toHexString(p1.hashCode())"
   ]
  },
  {
   "cell_type": "markdown",
   "metadata": {},
   "source": [
    "El interfaz de la clase Object mediante el método toString() indica que cualquier objeto de Java tendrá la capacidad de convertirse a String mediante dicho método. Todos los objetos responderán a este método y solo aquellos que lo redefinan, lo harán con sentido. Por este motivo, renombraremos nuestro método de andar por casa getInfo() por el método toString(), para entrar en el club de los objetos Java que sabemos responder con sentido al método toString()."
   ]
  },
  {
   "cell_type": "code",
   "execution_count": 36,
   "metadata": {},
   "outputs": [],
   "source": [
    "class Persona\n",
    "{ \n",
    "\n",
    "    String nombre;\n",
    "    int edad;\n",
    "    \n",
    "     Persona(String nombre, int edad) \n",
    "    {\n",
    "        this.nombre = nombre;\n",
    "        this.edad = edad;\n",
    "    }\n",
    "\n",
    "    @Override\n",
    "    public String toString()\n",
    "    {\n",
    "        return \"\\nNombre: \" + nombre + \"\\n\"\n",
    "        +\"Edad: \" + edad;\n",
    "    }\n",
    "}"
   ]
  },
  {
   "cell_type": "code",
   "execution_count": 37,
   "metadata": {},
   "outputs": [
    {
     "data": {
      "text/plain": [
       "\n",
       "Nombre: Luis\n",
       "Edad: 22"
      ]
     },
     "execution_count": 37,
     "metadata": {},
     "output_type": "execute_result"
    }
   ],
   "source": [
    "Persona p2 = new Persona(\"Luis\", 22);\n",
    "p2.toString();"
   ]
  },
  {
   "cell_type": "markdown",
   "metadata": {},
   "source": [
    "Dado que el método _toString()_ es el encargado de convertir cualquier objeto a una cadena de caracteres, es el utilizado por muchos objetos Java para ser invocado pro defecto. Por ejemplo, en el caso de mostrar información por consola."
   ]
  },
  {
   "cell_type": "code",
   "execution_count": 38,
   "metadata": {},
   "outputs": [
    {
     "name": "stdout",
     "output_type": "stream",
     "text": [
      "\n",
      "Nombre: Luis\n",
      "Edad: 22\n"
     ]
    }
   ],
   "source": [
    "System.out.println(p2.toString())"
   ]
  },
  {
   "cell_type": "markdown",
   "metadata": {},
   "source": [
    "Se podría sustituir por:"
   ]
  },
  {
   "cell_type": "code",
   "execution_count": 39,
   "metadata": {},
   "outputs": [
    {
     "name": "stdout",
     "output_type": "stream",
     "text": [
      "\n",
      "Nombre: Luis\n",
      "Edad: 22\n"
     ]
    }
   ],
   "source": [
    "System.out.println(p2)"
   ]
  },
  {
   "cell_type": "markdown",
   "metadata": {},
   "source": [
    "## Método *public boolean equals(Object o)*"
   ]
  },
  {
   "cell_type": "markdown",
   "metadata": {},
   "source": [
    "El método equals(Object) declarado en la clase Object permite comparar objetos entre sí según la estrategia que defina cada clase particular en su redefinición."
   ]
  },
  {
   "cell_type": "markdown",
   "metadata": {},
   "source": [
    "A partir de este momento se utilizará el *operador ==* para comparar tipos primitivos de datos y el método equals() para comparar objetos."
   ]
  },
  {
   "cell_type": "markdown",
   "metadata": {},
   "source": [
    "### Operador =="
   ]
  },
  {
   "cell_type": "markdown",
   "metadata": {},
   "source": [
    "Siempre se utilizará el == con los tipos de datos..."
   ]
  },
  {
   "cell_type": "code",
   "execution_count": 41,
   "metadata": {},
   "outputs": [
    {
     "data": {
      "text/plain": [
       "true"
      ]
     },
     "execution_count": 41,
     "metadata": {},
     "output_type": "execute_result"
    }
   ],
   "source": [
    "int i1 = 34;\n",
    "int i2 = 34;\n",
    "i1==i2"
   ]
  },
  {
   "cell_type": "markdown",
   "metadata": {},
   "source": [
    "...ya que compara el valor de cada variable. "
   ]
  },
  {
   "cell_type": "markdown",
   "metadata": {},
   "source": [
    "Cuando comparamos objetos con el operador ==, compara si los objetos apuntan a la misma dirección de memoria, no su contenido."
   ]
  },
  {
   "cell_type": "code",
   "execution_count": 24,
   "metadata": {},
   "outputs": [],
   "source": [
    "Persona p1 = new Persona(\"Manuel\",22);\n",
    "Persona p2 = new Persona(\"Manuel\",22); "
   ]
  },
  {
   "cell_type": "markdown",
   "metadata": {},
   "source": [
    "Por este motivo, la siguiente comparación devuelve false."
   ]
  },
  {
   "cell_type": "code",
   "execution_count": 26,
   "metadata": {},
   "outputs": [
    {
     "data": {
      "text/plain": [
       "false"
      ]
     },
     "execution_count": 26,
     "metadata": {},
     "output_type": "execute_result"
    }
   ],
   "source": [
    "p1==p2"
   ]
  },
  {
   "cell_type": "markdown",
   "metadata": {},
   "source": [
    "Si realizamos la siguiente asignación..."
   ]
  },
  {
   "cell_type": "code",
   "execution_count": 10,
   "metadata": {},
   "outputs": [],
   "source": [
    "p1 = p2;"
   ]
  },
  {
   "cell_type": "markdown",
   "metadata": {},
   "source": [
    "...p1 y p2 apuntarán al mismo objeto en memoria, por lo que el operador *==* devolverá _true_."
   ]
  },
  {
   "cell_type": "code",
   "execution_count": 11,
   "metadata": {},
   "outputs": [
    {
     "data": {
      "text/plain": [
       "true"
      ]
     },
     "execution_count": 11,
     "metadata": {},
     "output_type": "execute_result"
    }
   ],
   "source": [
    "p1==p2"
   ]
  },
  {
   "cell_type": "markdown",
   "metadata": {},
   "source": [
    "### Redefinición del método equals"
   ]
  },
  {
   "cell_type": "markdown",
   "metadata": {},
   "source": [
    "Hacemos un override del método equals perteneciente a la clase Object.\n",
    "Ahora haremos la comparación de objetos con el método equals, con la llamada a: p1.equals(p2);\n",
    "La comparación se realizará a partir de un atributo del objeto, por ejemplo el NIF, ya que este es único.\n",
    "En la definición del método equals, llamaremos al método equals de la clase String(), el cual ya está definido y funciona correctamente."
   ]
  },
  {
   "cell_type": "code",
   "execution_count": 14,
   "metadata": {},
   "outputs": [],
   "source": [
    "class Persona\n",
    "{ \n",
    "    private String nif;\n",
    "    private String nombre;\n",
    "    private int edad;\n",
    "    \n",
    "    public Persona(String nif, String nombre, int edad) \n",
    "    {\n",
    "        this.nif = nif;\n",
    "        this.nombre = nombre;\n",
    "        this.edad = edad;\n",
    "    }\n",
    "    \n",
    "    public String getNif()\n",
    "    {\n",
    "        return nif;\n",
    "    }\n",
    "    \n",
    "    public int getEdad()\n",
    "    {\n",
    "        return edad;\n",
    "    }    \n",
    "    \n",
    "    @Override\n",
    "    public String toString()\n",
    "    {\n",
    "        return \"NIF: \" + nif + \"\\nNombre: \" + nombre + \"\\nEdad: \" + edad;\n",
    "    }\n",
    "    \n",
    "    @Override\n",
    "    public boolean equals(Object obj) //Upcasting, el objeto que recibe lo vemos como un Objeto\n",
    "    {\n",
    "        if(obj instanceof Persona) //Si la instancia del objeto es una Persona...\n",
    "        {\n",
    "            Persona p = (Persona) obj; //Hacemos un downcasting (explícito) y bajamos el inyerfaz\n",
    "            if (edad == p.getEdad() && nif.equals(p.getNif())) //Llama al equals de String, que funciona correctamente\n",
    "                return true;\n",
    "            else\n",
    "                return false;\n",
    "        }\n",
    "        else\n",
    "            return false;\n",
    "    }\n",
    "}"
   ]
  },
  {
   "cell_type": "code",
   "execution_count": 15,
   "metadata": {},
   "outputs": [],
   "source": [
    "Persona p1 = new Persona(\"11111\",\"Manuel\",22);\n",
    "Persona p2 = new Persona(\"11111\",\"Manuel\",22);"
   ]
  },
  {
   "cell_type": "code",
   "execution_count": 16,
   "metadata": {
    "scrolled": true
   },
   "outputs": [
    {
     "name": "stdout",
     "output_type": "stream",
     "text": [
      "Con el método equals: true\n"
     ]
    }
   ],
   "source": [
    "System.out.println(\"Con el método equals: \" + p1.equals(p2));"
   ]
  },
  {
   "cell_type": "markdown",
   "metadata": {},
   "source": [
    "## Generalización con el interfaz de Object"
   ]
  },
  {
   "cell_type": "code",
   "execution_count": 34,
   "metadata": {},
   "outputs": [],
   "source": [
    "Object objetos[] = new Object[3];"
   ]
  },
  {
   "cell_type": "code",
   "execution_count": 35,
   "metadata": {},
   "outputs": [
    {
     "data": {
      "text/plain": [
       "NIF: 11111\n",
       "Nombre: Manuel\n",
       "Edad: 22"
      ]
     },
     "execution_count": 35,
     "metadata": {},
     "output_type": "execute_result"
    }
   ],
   "source": [
    "objetos[0] = p1;\n",
    "objetos[1] = \"Hola\";\n",
    "objetos[2] = p2;"
   ]
  },
  {
   "cell_type": "code",
   "execution_count": 36,
   "metadata": {},
   "outputs": [
    {
     "name": "stdout",
     "output_type": "stream",
     "text": [
      "NIF: 11111\n",
      "Nombre: Manuel\n",
      "Edad: 22\n",
      "------\n",
      "Hola\n",
      "------\n",
      "NIF: 11111\n",
      "Nombre: Manuel\n",
      "Edad: 22\n",
      "------\n"
     ]
    }
   ],
   "source": [
    "for(Object objeto:objetos)\n",
    "    System.out.println(objeto.toString()+\"\\n------\");"
   ]
  },
  {
   "cell_type": "markdown",
   "metadata": {},
   "source": [
    "Hay que recordar que por defecto el compilador irá a buscar el método toString() de cada objeto."
   ]
  },
  {
   "cell_type": "code",
   "execution_count": 38,
   "metadata": {},
   "outputs": [
    {
     "name": "stdout",
     "output_type": "stream",
     "text": [
      "NIF: 11111\n",
      "Nombre: Manuel\n",
      "Edad: 22\n",
      "------\n",
      "Hola\n",
      "------\n",
      "NIF: 11111\n",
      "Nombre: Manuel\n",
      "Edad: 22\n",
      "------\n"
     ]
    }
   ],
   "source": [
    "for(Object objeto:objetos)\n",
    "    System.out.println(objeto + \"\\n------\");"
   ]
  },
  {
   "cell_type": "code",
   "execution_count": null,
   "metadata": {},
   "outputs": [],
   "source": []
  }
 ],
 "metadata": {
  "kernelspec": {
   "display_name": "Java",
   "language": "java",
   "name": "java"
  },
  "language_info": {
   "codemirror_mode": "java",
   "file_extension": ".jshell",
   "mimetype": "text/x-java-source",
   "name": "Java",
   "pygments_lexer": "java",
   "version": "15+36-1562"
  }
 },
 "nbformat": 4,
 "nbformat_minor": 4
}
