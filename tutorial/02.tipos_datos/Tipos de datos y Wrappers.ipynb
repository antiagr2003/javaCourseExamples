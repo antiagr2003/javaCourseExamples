{
 "cells": [
  {
   "cell_type": "markdown",
   "metadata": {},
   "source": [
    "# Tipos de datos y Wrappers"
   ]
  },
  {
   "cell_type": "markdown",
   "metadata": {},
   "source": [
    "## Tipos de datos primitivos"
   ]
  },
  {
   "cell_type": "markdown",
   "metadata": {},
   "source": [
    "En Java, la tipificación de variables además de restringir los tipos de valores que pueden recibir, sirven para optimizar la cantidad de memoria a utilizar para almacenar los valores pertinentes. "
   ]
  },
  {
   "cell_type": "markdown",
   "metadata": {},
   "source": [
    "Cada tipo de dato va a utilizar un número de bits para guardar cada información (precisión). Eso significa que si yo deseo guardar una información como la edad (0 a 120 años), posiblemente con utilizar 8 bits servirá: 2^8 = 256 y no se necesitará emplear más memoria (más adelante veremos que no se pueden emplear todos los bits para almacenar el valor)."
   ]
  },
  {
   "cell_type": "markdown",
   "metadata": {},
   "source": [
    "| Tipo | Valor por defecto | Precisión | \n",
    "| --- | --- | --- |\n",
    "| boolean | false | 1 bit | \n",
    "| byte | 0 | 8 bits | \n",
    "| short | 0 | 16 bits | \n",
    "| int | 0 | 32 bits | \n",
    "| long | 0L | 64 bits | \n",
    "| float | 0.0f | 32 bits |\n",
    "| double | 0.0d | 64 bits |\n",
    "| char | '\\u0000'| 16 bits | "
   ]
  },
  {
   "cell_type": "markdown",
   "metadata": {},
   "source": [
    "Podríamos definir variables numéricas de la siguiente forma, sabiendo que el espacio de memoria para cada tipo es diferente, así como los valores máximos a almacenar en ellos, obviamente. Así, el valor máximo a almacenar en un tipo de dato será 2^(n-1)-1 y el mínimo 2^(n-1). El hecho de utilizar el tamaño de cada tipo menos uno, es porque ese bit se emplea para indicar el signo."
   ]
  },
  {
   "cell_type": "code",
   "execution_count": 86,
   "metadata": {},
   "outputs": [],
   "source": [
    "int numero1 = 56; //esta variable podría llegar a almacenar hasta el valor 2.147.483.647: 2^31-1\n",
    "byte numero2 = 56; //esta variable podría llegar a almacenar hasta el valor 127: 2^7-1"
   ]
  },
  {
   "cell_type": "markdown",
   "metadata": {},
   "source": [
    "Si intentamos asignar valores más altos, Java nos lanzará un mensaje de error, ya que no tiene capacidad para alamcenar esos valores."
   ]
  },
  {
   "cell_type": "code",
   "execution_count": 87,
   "metadata": {},
   "outputs": [
    {
     "ename": "CompilationException",
     "evalue": "",
     "output_type": "error",
     "traceback": [
      "\u001b[1m\u001b[30m|   \u001b[1m\u001b[30mbyte b = \u001b[0m\u001b[1m\u001b[30m\u001b[41m128\u001b[0m\u001b[1m\u001b[30m;\u001b[0m",
      "\u001b[1m\u001b[31mincompatible types: possible lossy conversion from int to byte\u001b[0m",
      ""
     ]
    }
   ],
   "source": [
    "byte b = 128;"
   ]
  },
  {
   "cell_type": "code",
   "execution_count": 88,
   "metadata": {},
   "outputs": [
    {
     "data": {
      "text/plain": [
       "127"
      ]
     },
     "execution_count": 88,
     "metadata": {},
     "output_type": "execute_result"
    }
   ],
   "source": [
    "byte b1 = 127;\n",
    "b1"
   ]
  },
  {
   "cell_type": "code",
   "execution_count": 89,
   "metadata": {},
   "outputs": [
    {
     "data": {
      "text/plain": [
       "-128"
      ]
     },
     "execution_count": 89,
     "metadata": {},
     "output_type": "execute_result"
    }
   ],
   "source": [
    "byte b2 = -128;\n",
    "b2"
   ]
  },
  {
   "cell_type": "code",
   "execution_count": 90,
   "metadata": {},
   "outputs": [
    {
     "data": {
      "text/plain": [
       "65"
      ]
     },
     "execution_count": 90,
     "metadata": {},
     "output_type": "execute_result"
    }
   ],
   "source": [
    "int i = 65;\n",
    "i"
   ]
  },
  {
   "cell_type": "code",
   "execution_count": 91,
   "metadata": {},
   "outputs": [
    {
     "data": {
      "text/plain": [
       "65.4"
      ]
     },
     "execution_count": 91,
     "metadata": {},
     "output_type": "execute_result"
    }
   ],
   "source": [
    "double d = 65.4;\n",
    "d"
   ]
  },
  {
   "cell_type": "code",
   "execution_count": 92,
   "metadata": {},
   "outputs": [
    {
     "data": {
      "text/plain": [
       "true"
      ]
     },
     "execution_count": 92,
     "metadata": {},
     "output_type": "execute_result"
    }
   ],
   "source": [
    "boolean b = true;\n",
    "b"
   ]
  },
  {
   "cell_type": "markdown",
   "metadata": {},
   "source": [
    "Ojo, porque hay ciertos valores numéricos que tienen una connotación por defecto. Por ejemplo, un número en coma flotante por defecto es un double. Eso no ocurre con los números enteros. En la siguiente sección se resolverá esta problemática."
   ]
  },
  {
   "cell_type": "code",
   "execution_count": 93,
   "metadata": {},
   "outputs": [
    {
     "data": {
      "text/plain": [
       "65"
      ]
     },
     "execution_count": 93,
     "metadata": {},
     "output_type": "execute_result"
    }
   ],
   "source": [
    "byte b = 65;\n",
    "b"
   ]
  },
  {
   "cell_type": "code",
   "execution_count": 94,
   "metadata": {},
   "outputs": [
    {
     "ename": "CompilationException",
     "evalue": "",
     "output_type": "error",
     "traceback": [
      "\u001b[1m\u001b[30m|   \u001b[1m\u001b[30mfloat f = \u001b[0m\u001b[1m\u001b[30m\u001b[41m65.6\u001b[0m\u001b[1m\u001b[30m; //65.6 por defecto es un double\u001b[0m",
      "\u001b[1m\u001b[31mincompatible types: possible lossy conversion from double to float\u001b[0m",
      ""
     ]
    }
   ],
   "source": [
    "float f = 65.6; //65.6 por defecto es un double"
   ]
  },
  {
   "cell_type": "markdown",
   "metadata": {},
   "source": [
    "## Conversiones (Cast)"
   ]
  },
  {
   "cell_type": "markdown",
   "metadata": {},
   "source": [
    "En Java podemos hacer conversiones de un tipo de dato a otro, sin embargo se debe tener en cuenta en algunos casos se puede perder información en este proceso.\n",
    "\n",
    "Cuando se produzca está situación deberemos indicar al compilador de manera explícita el tipo al cual queremos convertir nuestro dato. De esta manera le estamos diciendo que \"ya sabemos\" que se puede perder información. En caso contrario se producirá un error.\n",
    "\n",
    "Existen dos tipos de conversión:\n",
    "- Implícita (siempre que no se produzca pérdida de información)\n",
    "- Explícita (siempre que se produzca o se pueda producir pérdida de información).\n"
   ]
  },
  {
   "cell_type": "markdown",
   "metadata": {},
   "source": [
    "### Cast implícito"
   ]
  },
  {
   "cell_type": "markdown",
   "metadata": {},
   "source": [
    "En estas conversiones no se perderá información porque se almacena una variable de menor precisión en una de mayor. Por ejemplo, si almacenamos un valor de una variable tipo int (16 bits) en una variable tipo long (32), nunca se perderá información, por lo que la conversión se dice que será segura."
   ]
  },
  {
   "cell_type": "code",
   "execution_count": 95,
   "metadata": {},
   "outputs": [
    {
     "name": "stdout",
     "output_type": "stream",
     "text": [
      "45\n",
      "45\n"
     ]
    }
   ],
   "source": [
    "int i = 45; //32 bits\n",
    "long l = i; //64 bits\n",
    "\n",
    "System.out.println(i);\n",
    "System.out.println(l);"
   ]
  },
  {
   "cell_type": "markdown",
   "metadata": {},
   "source": [
    "### Cast explícito"
   ]
  },
  {
   "cell_type": "markdown",
   "metadata": {},
   "source": [
    "En cambio, en el caso inverso, podría haber pérdida de información y así nos lo indica el compilador. El compilador, en este caso, no evalúa el número almacenado en ese momento, si no el que puede llegar a tener en un futuro. Por ello, nos avisará de este posible futuro error."
   ]
  },
  {
   "cell_type": "code",
   "execution_count": 96,
   "metadata": {
    "scrolled": true
   },
   "outputs": [
    {
     "ename": "CompilationException",
     "evalue": "",
     "output_type": "error",
     "traceback": [
      "\u001b[1m\u001b[30m|   \u001b[1m\u001b[30mint i = \u001b[0m\u001b[1m\u001b[30m\u001b[41ml\u001b[0m\u001b[1m\u001b[30m; //32 bits - se perderían 32 bits\u001b[0m",
      "\u001b[1m\u001b[31mincompatible types: possible lossy conversion from long to int\u001b[0m",
      ""
     ]
    }
   ],
   "source": [
    "long l = 45; //64 bits\n",
    "int i = l; //32 bits - se perderían 32 bits"
   ]
  },
  {
   "cell_type": "markdown",
   "metadata": {},
   "source": [
    "Para indicar al compilador que estamos asumiendo esta posible pérdida de información, pondremos entre paréntesis el tipo de dato al que queremos convertir, lo que se conoce como cast explícito."
   ]
  },
  {
   "cell_type": "code",
   "execution_count": 97,
   "metadata": {},
   "outputs": [
    {
     "name": "stdout",
     "output_type": "stream",
     "text": [
      "45\n",
      "45\n"
     ]
    }
   ],
   "source": [
    "long l = 45;\n",
    "int i = (int) l; //Le decimos que somos conscientes de la posible pérdida de información\n",
    "\n",
    "System.out.println(i);\n",
    "System.out.println(l);"
   ]
  },
  {
   "cell_type": "markdown",
   "metadata": {},
   "source": [
    "Por defecto un número en coma flotante es un _double_"
   ]
  },
  {
   "cell_type": "code",
   "execution_count": 98,
   "metadata": {},
   "outputs": [],
   "source": [
    "double d = 45.56;"
   ]
  },
  {
   "cell_type": "markdown",
   "metadata": {},
   "source": [
    "Por ese motivo, la siguiente línea dará un error al poder perder información en el paso de un double a float, como vimos anteriormente."
   ]
  },
  {
   "cell_type": "code",
   "execution_count": 99,
   "metadata": {},
   "outputs": [
    {
     "ename": "CompilationException",
     "evalue": "",
     "output_type": "error",
     "traceback": [
      "\u001b[1m\u001b[30m|   \u001b[1m\u001b[30mfloat f = \u001b[0m\u001b[1m\u001b[30m\u001b[41m45.56\u001b[0m\u001b[1m\u001b[30m; //Conversión de double a float\u001b[0m",
      "\u001b[1m\u001b[31mincompatible types: possible lossy conversion from double to float\u001b[0m",
      ""
     ]
    }
   ],
   "source": [
    "float f = 45.56; //Conversión de double a float"
   ]
  },
  {
   "cell_type": "markdown",
   "metadata": {},
   "source": [
    "Para solucionar esta asignación básica, se podrán plantear distintas soluciones:"
   ]
  },
  {
   "cell_type": "code",
   "execution_count": 100,
   "metadata": {},
   "outputs": [],
   "source": [
    "float f = (float) 45.56;\n",
    "float f = 45.56F;\n",
    "float f = 45.56f;"
   ]
  },
  {
   "cell_type": "markdown",
   "metadata": {},
   "source": [
    "### Ejemplo de conversiones de tipos primitivos"
   ]
  },
  {
   "cell_type": "code",
   "execution_count": 101,
   "metadata": {},
   "outputs": [],
   "source": [
    "byte b = 45;"
   ]
  },
  {
   "cell_type": "code",
   "execution_count": 102,
   "metadata": {},
   "outputs": [],
   "source": [
    "int i = b;"
   ]
  },
  {
   "cell_type": "code",
   "execution_count": 103,
   "metadata": {},
   "outputs": [
    {
     "ename": "CompilationException",
     "evalue": "",
     "output_type": "error",
     "traceback": [
      "\u001b[1m\u001b[30m|   \u001b[1m\u001b[30mbyte b2 = \u001b[0m\u001b[1m\u001b[30m\u001b[41mi\u001b[0m\u001b[1m\u001b[30m;\u001b[0m",
      "\u001b[1m\u001b[31mincompatible types: possible lossy conversion from int to byte\u001b[0m",
      ""
     ]
    }
   ],
   "source": [
    "byte b2 = i;"
   ]
  },
  {
   "cell_type": "code",
   "execution_count": 104,
   "metadata": {},
   "outputs": [
    {
     "ename": "CompilationException",
     "evalue": "",
     "output_type": "error",
     "traceback": [
      "\u001b[1m\u001b[30m|   \u001b[1m\u001b[30mfloat f0 = \u001b[0m\u001b[1m\u001b[30m\u001b[41m45.7\u001b[0m\u001b[1m\u001b[30m;\u001b[0m",
      "\u001b[1m\u001b[31mincompatible types: possible lossy conversion from double to float\u001b[0m",
      ""
     ]
    }
   ],
   "source": [
    "float f0 = 45.7;"
   ]
  },
  {
   "cell_type": "code",
   "execution_count": 105,
   "metadata": {},
   "outputs": [],
   "source": [
    "float f1 = 45.7F;"
   ]
  },
  {
   "cell_type": "code",
   "execution_count": 106,
   "metadata": {},
   "outputs": [],
   "source": [
    "float f2 = (float) 45.7;"
   ]
  },
  {
   "cell_type": "code",
   "execution_count": 107,
   "metadata": {},
   "outputs": [
    {
     "ename": "CompilationException",
     "evalue": "",
     "output_type": "error",
     "traceback": [
      "\u001b[1m\u001b[30m|   \u001b[1m\u001b[30mfloat f3 = \u001b[0m\u001b[1m\u001b[30m\u001b[41m45.7\u001b[0m\u001b[1m\u001b[30m;\u001b[0m",
      "\u001b[1m\u001b[31mincompatible types: possible lossy conversion from double to float\u001b[0m",
      ""
     ]
    }
   ],
   "source": [
    "float f3 = 45.7;"
   ]
  },
  {
   "cell_type": "code",
   "execution_count": 108,
   "metadata": {},
   "outputs": [],
   "source": [
    "int i2 = 56; "
   ]
  },
  {
   "cell_type": "code",
   "execution_count": 109,
   "metadata": {},
   "outputs": [],
   "source": [
    "float f4 = i2;"
   ]
  },
  {
   "cell_type": "markdown",
   "metadata": {},
   "source": [
    "## Caracteres"
   ]
  },
  {
   "cell_type": "markdown",
   "metadata": {},
   "source": [
    "Los caracteres se almacenan internamente como números sin el bit del signo, por lo que la resolución es de 2^16."
   ]
  },
  {
   "cell_type": "markdown",
   "metadata": {},
   "source": [
    "Existe varias formas de crear un carácter:\n",
    "```java\n",
    "'a' //--> Carácter: Siempre utilizando la comilla simple.\n",
    "'\\t' //--> Secuencia de escape: Tabulador.\n",
    "'\\u????' //--> Carácter UNICODE en hexadecimal:La representación del carácter ‘A’ será ‘\\u0041’.\n",
    "65 //--> Entero: Representación ASCII del carácter ‘A’.\n",
    "```\n",
    "\n",
    "\n"
   ]
  },
  {
   "cell_type": "code",
   "execution_count": 110,
   "metadata": {},
   "outputs": [
    {
     "name": "stdout",
     "output_type": "stream",
     "text": [
      "A - A - A\r\n"
     ]
    }
   ],
   "source": [
    "char c1 = 65; //En binario 0100 0001\n",
    "char c2 = '\\u0041'; //Representación UNICODE. En hexadecimal 0100 -> 4; 0001 -> 1 = 41\n",
    "char c3 = 'A'; \n",
    "String s1 = \"A\"; //Es lo que diferencia a un char 'A' de un String \"A\"\n",
    "System.out.println(c1 + \" - \" + c2 + \" - \" + c3 );"
   ]
  },
  {
   "cell_type": "markdown",
   "metadata": {},
   "source": [
    "Los caracteres se comportan internamente como valores numéricos, por lo que se puede hacer operaciones con ellos. "
   ]
  },
  {
   "cell_type": "code",
   "execution_count": 111,
   "metadata": {},
   "outputs": [
    {
     "data": {
      "text/plain": [
       "65"
      ]
     },
     "execution_count": 111,
     "metadata": {},
     "output_type": "execute_result"
    }
   ],
   "source": [
    "int i = 'A';\n",
    "i"
   ]
  },
  {
   "cell_type": "code",
   "execution_count": 112,
   "metadata": {},
   "outputs": [
    {
     "ename": "CompilationException",
     "evalue": "",
     "output_type": "error",
     "traceback": [
      "\u001b[1m\u001b[30m|   \u001b[1m\u001b[30mchar c4 = (\u001b[0m\u001b[1m\u001b[30m\u001b[41mi + 1\u001b[0m\u001b[1m\u001b[30m);\u001b[0m",
      "\u001b[1m\u001b[31mincompatible types: possible lossy conversion from int to char\u001b[0m",
      ""
     ]
    }
   ],
   "source": [
    "char c4 = (i + 1);"
   ]
  },
  {
   "cell_type": "markdown",
   "metadata": {},
   "source": [
    "Se debe hacer un cast explícito en la conversión de un int a char, porque aunque posean más bits de precisión, se pierde el bit del signo."
   ]
  },
  {
   "cell_type": "code",
   "execution_count": 113,
   "metadata": {},
   "outputs": [
    {
     "data": {
      "text/plain": [
       "B"
      ]
     },
     "execution_count": 113,
     "metadata": {},
     "output_type": "execute_result"
    }
   ],
   "source": [
    "char c = (char) (i + 1);\n",
    "c"
   ]
  },
  {
   "cell_type": "markdown",
   "metadata": {},
   "source": [
    "El siguiente código mostraría toda la tabla de equivalencias de los caracteres a su número"
   ]
  },
  {
   "cell_type": "code",
   "execution_count": 114,
   "metadata": {},
   "outputs": [
    {
     "name": "stdout",
     "output_type": "stream",
     "text": [
      "Char: A Valor UTF-16: 65\n",
      "Char: B Valor UTF-16: 66\n",
      "Char: C Valor UTF-16: 67\n",
      "Char: D Valor UTF-16: 68\n",
      "Char: E Valor UTF-16: 69\n",
      "Char: F Valor UTF-16: 70\n",
      "Char: G Valor UTF-16: 71\n",
      "Char: H Valor UTF-16: 72\n",
      "Char: I Valor UTF-16: 73\n",
      "Char: J Valor UTF-16: 74\n",
      "Char: K Valor UTF-16: 75\n",
      "Char: L Valor UTF-16: 76\n",
      "Char: M Valor UTF-16: 77\n",
      "Char: N Valor UTF-16: 78\n",
      "Char: O Valor UTF-16: 79\n",
      "Char: P Valor UTF-16: 80\n",
      "Char: Q Valor UTF-16: 81\n",
      "Char: R Valor UTF-16: 82\n",
      "Char: S Valor UTF-16: 83\n",
      "Char: T Valor UTF-16: 84\n",
      "Char: U Valor UTF-16: 85\n",
      "Char: V Valor UTF-16: 86\n",
      "Char: W Valor UTF-16: 87\n",
      "Char: X Valor UTF-16: 88\n",
      "Char: Y Valor UTF-16: 89\n",
      "Char: Z Valor UTF-16: 90\n",
      "Char: [ Valor UTF-16: 91\n",
      "Char: \\ Valor UTF-16: 92\n",
      "Char: ] Valor UTF-16: 93\n",
      "Char: ^ Valor UTF-16: 94\n",
      "Char: _ Valor UTF-16: 95\n",
      "Char: ` Valor UTF-16: 96\n",
      "Char: a Valor UTF-16: 97\n",
      "Char: b Valor UTF-16: 98\n",
      "Char: c Valor UTF-16: 99\n",
      "Char: d Valor UTF-16: 100\n",
      "Char: e Valor UTF-16: 101\n",
      "Char: f Valor UTF-16: 102\n",
      "Char: g Valor UTF-16: 103\n",
      "Char: h Valor UTF-16: 104\n",
      "Char: i Valor UTF-16: 105\n",
      "Char: j Valor UTF-16: 106\n",
      "Char: k Valor UTF-16: 107\n",
      "Char: l Valor UTF-16: 108\n",
      "Char: m Valor UTF-16: 109\n",
      "Char: n Valor UTF-16: 110\n",
      "Char: o Valor UTF-16: 111\n",
      "Char: p Valor UTF-16: 112\n",
      "Char: q Valor UTF-16: 113\n",
      "Char: r Valor UTF-16: 114\n",
      "Char: s Valor UTF-16: 115\n",
      "Char: t Valor UTF-16: 116\n",
      "Char: u Valor UTF-16: 117\n",
      "Char: v Valor UTF-16: 118\n",
      "Char: w Valor UTF-16: 119\n",
      "Char: x Valor UTF-16: 120\n",
      "Char: y Valor UTF-16: 121\n",
      "Char: z Valor UTF-16: 122\n",
      "Char: { Valor UTF-16: 123\n",
      "Char: | Valor UTF-16: 124\n",
      "Char: } Valor UTF-16: 125\n",
      "Char: ~ Valor UTF-16: 126\n",
      "Char:  Valor UTF-16: 127\n",
      "Char:  Valor UTF-16: 128\n",
      "Char:  Valor UTF-16: 129\n",
      "Char:  Valor UTF-16: 130\n",
      "Char:  Valor UTF-16: 131\n",
      "Char:  Valor UTF-16: 132\n",
      "Char: ",
      " Valor UTF-16: 133\n",
      "Char:  Valor UTF-16: 134\n",
      "Char:  Valor UTF-16: 135\n",
      "Char:  Valor UTF-16: 136\n",
      "Char:  Valor UTF-16: 137\n",
      "Char:  Valor UTF-16: 138\n",
      "Char:  Valor UTF-16: 139\n",
      "Char:  Valor UTF-16: 140\n",
      "Char:  Valor UTF-16: 141\n",
      "Char:  Valor UTF-16: 142\n",
      "Char:  Valor UTF-16: 143\n",
      "Char:  Valor UTF-16: 144\n",
      "Char:  Valor UTF-16: 145\n",
      "Char:  Valor UTF-16: 146\n",
      "Char:  Valor UTF-16: 147\n",
      "Char:  Valor UTF-16: 148\n",
      "Char:  Valor UTF-16: 149\n",
      "Char:  Valor UTF-16: 150\n",
      "Char:  Valor UTF-16: 151\n",
      "Char:  Valor UTF-16: 152\n",
      "Char:  Valor UTF-16: 153\n",
      "Char:  Valor UTF-16: 154\n",
      "Char:  Valor UTF-16: 155\n",
      "Char:  Valor UTF-16: 156\n",
      "Char:  Valor UTF-16: 157\n",
      "Char:  Valor UTF-16: 158\n",
      "Char:  Valor UTF-16: 159\n",
      "Char:   Valor UTF-16: 160\n",
      "Char: ¡ Valor UTF-16: 161\n",
      "Char: ¢ Valor UTF-16: 162\n",
      "Char: £ Valor UTF-16: 163\n",
      "Char: ¤ Valor UTF-16: 164\n",
      "Char: ¥ Valor UTF-16: 165\n",
      "Char: ¦ Valor UTF-16: 166\n",
      "Char: § Valor UTF-16: 167\n",
      "Char: ¨ Valor UTF-16: 168\n",
      "Char: © Valor UTF-16: 169\n",
      "Char: ª Valor UTF-16: 170\n",
      "Char: « Valor UTF-16: 171\n",
      "Char: ¬ Valor UTF-16: 172\n",
      "Char: ­ Valor UTF-16: 173\n",
      "Char: ® Valor UTF-16: 174\n",
      "Char: ¯ Valor UTF-16: 175\n",
      "Char: ° Valor UTF-16: 176\n",
      "Char: ± Valor UTF-16: 177\n",
      "Char: ² Valor UTF-16: 178\n"
     ]
    }
   ],
   "source": [
    "for(int j=65;j<179;j++)\n",
    "    System.out.println(\"Char: \" + (char)j + \" Valor UTF-16: \" + j);\n"
   ]
  },
  {
   "cell_type": "markdown",
   "metadata": {},
   "source": [
    "Los caracteres poseen total compatibilidad con los tipos enteros:"
   ]
  },
  {
   "cell_type": "code",
   "execution_count": 115,
   "metadata": {},
   "outputs": [
    {
     "data": {
      "text/plain": [
       "A"
      ]
     },
     "execution_count": 115,
     "metadata": {},
     "output_type": "execute_result"
    }
   ],
   "source": [
    "char c='A';\n",
    "c"
   ]
  },
  {
   "cell_type": "code",
   "execution_count": 116,
   "metadata": {},
   "outputs": [
    {
     "data": {
      "text/plain": [
       "65"
      ]
     },
     "execution_count": 116,
     "metadata": {},
     "output_type": "execute_result"
    }
   ],
   "source": [
    "int a = c;\n",
    "a"
   ]
  },
  {
   "cell_type": "code",
   "execution_count": 117,
   "metadata": {},
   "outputs": [
    {
     "data": {
      "text/plain": [
       "66"
      ]
     },
     "execution_count": 117,
     "metadata": {},
     "output_type": "execute_result"
    }
   ],
   "source": [
    "a = a + 1;\n",
    "a"
   ]
  },
  {
   "cell_type": "code",
   "execution_count": 118,
   "metadata": {},
   "outputs": [
    {
     "data": {
      "text/plain": [
       "B"
      ]
     },
     "execution_count": 118,
     "metadata": {},
     "output_type": "execute_result"
    }
   ],
   "source": [
    "char c2 = (char) a;\n",
    "c2"
   ]
  },
  {
   "cell_type": "markdown",
   "metadata": {},
   "source": [
    "Tabla de secuencias de escape:\n",
    "'\\n' Nueva línea\n",
    "'\\t' tabulación\n",
    "'\\b' retorno\n",
    "'\\r' salto de carro\n",
    "'\\f' salto de hoja\n",
    "'\\'' comilla simple\n",
    "'\\\"' doble comilla\n",
    "'\\\\' barra invertida"
   ]
  },
  {
   "cell_type": "markdown",
   "metadata": {},
   "source": [
    "## Wrappers"
   ]
  },
  {
   "cell_type": "markdown",
   "metadata": {},
   "source": [
    "https://docs.oracle.com/en/java/javase/15/docs/api/java.base/java/lang/Integer.html"
   ]
  },
  {
   "cell_type": "markdown",
   "metadata": {},
   "source": [
    "En Java tenemos un conjunto de clases que permiten trabajar con tipos de datos como si fuesen objetos.A estas clases se las denomina envoltorios o wrappers. Utilizaremos estas clases cuando tengamos que trabajar obligatoriamente con objetos. La correspondencia entre tipos y objetos se define a continuación:"
   ]
  },
  {
   "cell_type": "markdown",
   "metadata": {},
   "source": [
    "| Tipo | Valor por defecto | Precisión | Wrapper |\n",
    "| --- | --- | --- | --- |\n",
    "| boolean | false | 1 bit | Boolean |\n",
    "| byte | 0 | 8 bits | Byte |\n",
    "| short | 0 | 16 bits | Short |\n",
    "| int | 0 | 32 bits | Integer |\n",
    "| long | 0L | 64 bits | Long |\n",
    "| float | 0.0f | 32 bits | Float |\n",
    "| double | 0.0d | 64 bits | Double |\n",
    "| char | '\\u0000'| 16 bits | Character |"
   ]
  },
  {
   "cell_type": "markdown",
   "metadata": {},
   "source": [
    "### Conversiones de tipo primitivo a Objeto:"
   ]
  },
  {
   "cell_type": "markdown",
   "metadata": {},
   "source": [
    "La forma de encapsular un tipo como un Wrapper siempre será mediante los métodos estáticos sobrecargados valueOf(....):\n",
    "- int a Integer: Integer.valueOf(int a)\n",
    "- double a Double: Double.valueOf(double a)\n",
    "- long a Long: Long.valueOf(long a)\n",
    "- ..."
   ]
  },
  {
   "cell_type": "code",
   "execution_count": 119,
   "metadata": {},
   "outputs": [
    {
     "data": {
      "text/plain": [
       "65"
      ]
     },
     "execution_count": 119,
     "metadata": {},
     "output_type": "execute_result"
    }
   ],
   "source": [
    "int i = 65;\n",
    "Integer miInt = Integer.valueOf(i);\n",
    "miInt"
   ]
  },
  {
   "cell_type": "markdown",
   "metadata": {},
   "source": [
    "Al estar sobrecargados estos métodos, nos permitirá otro tipo de conversiones:"
   ]
  },
  {
   "cell_type": "code",
   "execution_count": 121,
   "metadata": {},
   "outputs": [
    {
     "data": {
      "text/plain": [
       "65"
      ]
     },
     "execution_count": 121,
     "metadata": {},
     "output_type": "execute_result"
    }
   ],
   "source": [
    "Integer.valueOf(\"65\")"
   ]
  },
  {
   "cell_type": "markdown",
   "metadata": {},
   "source": [
    "### Conversiones de Objeto a tipo primitivo"
   ]
  },
  {
   "cell_type": "markdown",
   "metadata": {},
   "source": [
    "Se utilizarán los métodos tipoValue() de cada clase:\n",
    "- Integer a int: int intValue()\n",
    "- Double a double: double doubleValue()\n",
    "- Long a long: long longValue()\n",
    "- ..."
   ]
  },
  {
   "cell_type": "code",
   "execution_count": 122,
   "metadata": {
    "scrolled": true
   },
   "outputs": [
    {
     "data": {
      "text/plain": [
       "65"
      ]
     },
     "execution_count": 122,
     "metadata": {},
     "output_type": "execute_result"
    }
   ],
   "source": [
    "int i = miInt.intValue();\n",
    "i"
   ]
  },
  {
   "cell_type": "markdown",
   "metadata": {},
   "source": [
    "### Conversiones entre diferentes tipos de datos básicos"
   ]
  },
  {
   "cell_type": "markdown",
   "metadata": {},
   "source": [
    "Para hacer otras conversiones hay que utilizar las clases Wrapper del tipo destino a convertir:\n",
    "\n",
    "- Objeto a String: String toString()\n",
    "- String a Integer: static Integer valueOf(String s)\n",
    "- String a Float : static Float valueOf(String s)\n",
    "- String a int (en Integer): static int parseInt(String s)\n",
    "- String a float (en Float): static float parseFloat(String s)"
   ]
  },
  {
   "cell_type": "code",
   "execution_count": 77,
   "metadata": {},
   "outputs": [
    {
     "data": {
      "text/plain": [
       "34"
      ]
     },
     "execution_count": 77,
     "metadata": {},
     "output_type": "execute_result"
    }
   ],
   "source": [
    "String s = \"34\";\n",
    "Long miLong = Long.valueOf(s);\n",
    "miLong"
   ]
  },
  {
   "cell_type": "markdown",
   "metadata": {},
   "source": [
    "Si se desea convertir a int, busco en Integer."
   ]
  },
  {
   "cell_type": "code",
   "execution_count": 78,
   "metadata": {},
   "outputs": [
    {
     "name": "stdout",
     "output_type": "stream",
     "text": [
      "7\n"
     ]
    }
   ],
   "source": [
    "String s = \"7\";\n",
    "int a = Integer.parseInt(s);\n",
    "s = String.valueOf(a);\n",
    "\n",
    "System.out.println(s);"
   ]
  },
  {
   "cell_type": "code",
   "execution_count": 79,
   "metadata": {},
   "outputs": [
    {
     "name": "stdout",
     "output_type": "stream",
     "text": [
      "x\n"
     ]
    }
   ],
   "source": [
    "char c;\n",
    "Character ch= new Character('x');\n",
    "c=ch.charValue();\n",
    "\n",
    "System.out.println(c);"
   ]
  },
  {
   "cell_type": "markdown",
   "metadata": {},
   "source": [
    "## Autoboxing"
   ]
  },
  {
   "cell_type": "markdown",
   "metadata": {},
   "source": [
    "A partir de la versión 1.5 Java introduce el concepto de Autoboxing: permite asignaciones directas entre tipos y sus Wrappers. Ojo, es obligatorio conocer este hecho ya que no tendrá sentido utilizar Wrappers en operaciones artiméticas o como atributos, aunque Java permita esta asignación."
   ]
  },
  {
   "cell_type": "markdown",
   "metadata": {},
   "source": [
    "En el siguiente caso la sentencia..."
   ]
  },
  {
   "cell_type": "code",
   "execution_count": 123,
   "metadata": {},
   "outputs": [],
   "source": [
    "Integer miInteger = Integer.valueOf(34);"
   ]
  },
  {
   "cell_type": "markdown",
   "metadata": {},
   "source": [
    " ...se podría simplificar por..."
   ]
  },
  {
   "cell_type": "code",
   "execution_count": 83,
   "metadata": {},
   "outputs": [],
   "source": [
    "Integer miInteger = 34;"
   ]
  },
  {
   "cell_type": "markdown",
   "metadata": {},
   "source": [
    "En el proceso de desencapsulado (unboxing) funcionaría igual."
   ]
  },
  {
   "cell_type": "code",
   "execution_count": 125,
   "metadata": {},
   "outputs": [],
   "source": [
    "int i = miInteger.intValue()"
   ]
  },
  {
   "cell_type": "markdown",
   "metadata": {},
   "source": [
    "...se podría simplificar por..."
   ]
  },
  {
   "cell_type": "code",
   "execution_count": 126,
   "metadata": {},
   "outputs": [
    {
     "data": {
      "text/plain": [
       "34"
      ]
     },
     "execution_count": 126,
     "metadata": {},
     "output_type": "execute_result"
    }
   ],
   "source": [
    "int i = miInteger;\n",
    "i"
   ]
  },
  {
   "cell_type": "markdown",
   "metadata": {},
   "source": [
    "## Reto"
   ]
  },
  {
   "cell_type": "markdown",
   "metadata": {},
   "source": [
    "Realizar las siguientes conversiones: \n",
    "54.6 --> float --> char --> Character --> String --> Integer --> int --> float"
   ]
  }
 ],
 "metadata": {
  "kernelspec": {
   "display_name": "Java",
   "language": "java",
   "name": "java"
  },
  "language_info": {
   "codemirror_mode": "java",
   "file_extension": ".jshell",
   "mimetype": "text/x-java-source",
   "name": "Java",
   "pygments_lexer": "java",
   "version": "15.0.2+7-27"
  }
 },
 "nbformat": 4,
 "nbformat_minor": 4
}
